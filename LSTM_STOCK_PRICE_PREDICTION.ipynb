{
  "nbformat": 4,
  "nbformat_minor": 0,
  "metadata": {
    "colab": {
      "name": "LSTM-STOCK_PRICE PREDICTION.ipynb",
      "provenance": [],
      "machine_shape": "hm",
      "authorship_tag": "ABX9TyP6FT6Jy3tsrq08k4j6oFL+",
      "include_colab_link": true
    },
    "kernelspec": {
      "name": "python3",
      "display_name": "Python 3"
    },
    "language_info": {
      "name": "python"
    },
    "accelerator": "GPU"
  },
  "cells": [
    {
      "cell_type": "markdown",
      "metadata": {
        "id": "view-in-github",
        "colab_type": "text"
      },
      "source": [
        "<a href=\"https://colab.research.google.com/github/prahladpunia/AI/blob/main/LSTM_STOCK_PRICE_PREDICTION.ipynb\" target=\"_parent\"><img src=\"https://colab.research.google.com/assets/colab-badge.svg\" alt=\"Open In Colab\"/></a>"
      ]
    },
    {
      "cell_type": "markdown",
      "source": [
        "# Recurrent Neural Network   \n",
        "# Part 1 - Data Preprocessing"
      ],
      "metadata": {
        "id": "Oj2Qo0Xvf_DR"
      }
    },
    {
      "cell_type": "code",
      "execution_count": 32,
      "metadata": {
        "id": "_76WYYeEf2x3"
      },
      "outputs": [],
      "source": [
        "import numpy as np\n",
        "import matplotlib.pyplot as plt\n",
        "import pandas as pd"
      ]
    },
    {
      "cell_type": "markdown",
      "source": [
        "# Importing the training set"
      ],
      "metadata": {
        "id": "5tKWlBJLgHa6"
      }
    },
    {
      "cell_type": "code",
      "source": [
        "# Importing the training set\n",
        "dataset_train = pd.read_csv('Google_Stock_Price_Train.csv')\n",
        "training_set = dataset_train.iloc[:, 1:2].values"
      ],
      "metadata": {
        "id": "JJa1m7XkgWGj"
      },
      "execution_count": 33,
      "outputs": []
    },
    {
      "cell_type": "markdown",
      "source": [
        "# Feature Scaling"
      ],
      "metadata": {
        "id": "7ItfpG9Qgfxx"
      }
    },
    {
      "cell_type": "code",
      "source": [
        "# Feature Scaling\n",
        "from sklearn.preprocessing import MinMaxScaler\n",
        "sc = MinMaxScaler(feature_range = (0, 1))\n",
        "training_set_scaled = sc.fit_transform(training_set)"
      ],
      "metadata": {
        "id": "Vhu7s2h2gajP"
      },
      "execution_count": 34,
      "outputs": []
    },
    {
      "cell_type": "markdown",
      "source": [
        "# Creating a data structure with 60 timesteps and 1 output"
      ],
      "metadata": {
        "id": "d-iHSRR7gnwh"
      }
    },
    {
      "cell_type": "code",
      "source": [
        "# Creating a data structure with 60 timesteps and 1 output\n",
        "X_train = []\n",
        "y_train = []\n",
        "for i in range(60, 1258):\n",
        "    X_train.append(training_set_scaled[i-60:i, 0])\n",
        "    y_train.append(training_set_scaled[i, 0])\n",
        "X_train, y_train = np.array(X_train), np.array(y_train)"
      ],
      "metadata": {
        "id": "c9l2utJZgoNo"
      },
      "execution_count": 35,
      "outputs": []
    },
    {
      "cell_type": "markdown",
      "source": [
        "# Reshaping"
      ],
      "metadata": {
        "id": "i7-WOVg1gvSx"
      }
    },
    {
      "cell_type": "code",
      "source": [
        "# Reshaping\n",
        "X_train = np.reshape(X_train, (X_train.shape[0], X_train.shape[1], 1))"
      ],
      "metadata": {
        "id": "Jzp8ceqhgvj3"
      },
      "execution_count": 36,
      "outputs": []
    },
    {
      "cell_type": "markdown",
      "source": [
        ""
      ],
      "metadata": {
        "id": "qAZTYVkhg3l2"
      }
    },
    {
      "cell_type": "code",
      "source": [
        "# Part 2 - Building the RNN\n",
        "# Importing the Keras libraries and packages"
      ],
      "metadata": {
        "id": "cmd3tfmAg30j"
      },
      "execution_count": 37,
      "outputs": []
    },
    {
      "cell_type": "code",
      "source": [
        "import tensorflow as tf"
      ],
      "metadata": {
        "id": "UCFmBmYtg9-e"
      },
      "execution_count": 38,
      "outputs": []
    },
    {
      "cell_type": "markdown",
      "source": [
        "#Initialize the RNN"
      ],
      "metadata": {
        "id": "ib6m48A7hC0z"
      }
    },
    {
      "cell_type": "code",
      "source": [
        "regressor = tf.keras.models.Sequential()"
      ],
      "metadata": {
        "id": "J-BigtFvhJ8n"
      },
      "execution_count": 39,
      "outputs": []
    },
    {
      "cell_type": "markdown",
      "source": [
        "#Add FIRST LSTM layer and Dropout regularization "
      ],
      "metadata": {
        "id": "1KMvk3xHhROE"
      }
    },
    {
      "cell_type": "code",
      "source": [
        "regressor.add(tf.keras.layers.LSTM(units=50, return_sequences=True, input_shape=(X_train.shape[1], 1)))\n",
        "regressor.add(tf.keras.layers.Dropout(0.2))"
      ],
      "metadata": {
        "id": "b7_YWOzPhdCr"
      },
      "execution_count": 40,
      "outputs": []
    },
    {
      "cell_type": "markdown",
      "source": [
        "Add SECOND LSTM layer and Dropout regularization"
      ],
      "metadata": {
        "id": "3-Kcs2cxiFvt"
      }
    },
    {
      "cell_type": "code",
      "source": [
        "regressor.add(tf.keras.layers.LSTM(units=50, return_sequences=True))\n",
        "regressor.add(tf.keras.layers.Dropout(0.2))"
      ],
      "metadata": {
        "id": "pJCiyHN6iLzs"
      },
      "execution_count": 41,
      "outputs": []
    },
    {
      "cell_type": "markdown",
      "source": [
        "Add THIRD LSTM layer and Dropout regularization"
      ],
      "metadata": {
        "id": "geztA_2giQbj"
      }
    },
    {
      "cell_type": "code",
      "source": [
        "regressor.add(tf.keras.layers.LSTM(units=50, return_sequences=True))\n",
        "regressor.add(tf.keras.layers.Dropout(0.2))"
      ],
      "metadata": {
        "id": "OTJZv2tQiVni"
      },
      "execution_count": 42,
      "outputs": []
    },
    {
      "cell_type": "markdown",
      "source": [
        "#Add FOURTH LSTM layer and Dropout regularization"
      ],
      "metadata": {
        "id": "zWad1wgciY5L"
      }
    },
    {
      "cell_type": "code",
      "source": [
        "regressor.add(tf.keras.layers.LSTM(units=50, return_sequences=False))\n",
        "regressor.add(tf.keras.layers.Dropout(0.2))"
      ],
      "metadata": {
        "id": "hbsyPvNKii44"
      },
      "execution_count": 43,
      "outputs": []
    },
    {
      "cell_type": "markdown",
      "source": [
        "#Add the OUTPUT layer"
      ],
      "metadata": {
        "id": "SRwfosN2inVK"
      }
    },
    {
      "cell_type": "code",
      "source": [
        "regressor.add(tf.keras.layers.Dense(units=1))"
      ],
      "metadata": {
        "id": "hbmDDSNLic6g"
      },
      "execution_count": 44,
      "outputs": []
    },
    {
      "cell_type": "markdown",
      "source": [
        "#COMPILE"
      ],
      "metadata": {
        "id": "bnxoQFHli4L6"
      }
    },
    {
      "cell_type": "code",
      "source": [
        "regressor.compile(optimizer='adam', loss=\"mean_squared_error\")"
      ],
      "metadata": {
        "id": "LZbJKIc8i6da"
      },
      "execution_count": 45,
      "outputs": []
    },
    {
      "cell_type": "markdown",
      "source": [
        "#Fit the model to training dataset"
      ],
      "metadata": {
        "id": "GTBJlxEjjEh1"
      }
    },
    {
      "cell_type": "code",
      "source": [
        "regressor.fit(X_train, y_train, batch_size=32, epochs=100, verbose =2)"
      ],
      "metadata": {
        "colab": {
          "base_uri": "https://localhost:8080/"
        },
        "id": "eETTrLG4jInp",
        "outputId": "a5f52e34-cbd0-4d37-b11f-5cf9ed6dfd00"
      },
      "execution_count": 46,
      "outputs": [
        {
          "output_type": "stream",
          "name": "stdout",
          "text": [
            "Epoch 1/100\n",
            "38/38 - 6s - loss: 0.0342 - 6s/epoch - 148ms/step\n",
            "Epoch 2/100\n",
            "38/38 - 0s - loss: 0.0062 - 413ms/epoch - 11ms/step\n",
            "Epoch 3/100\n",
            "38/38 - 0s - loss: 0.0047 - 417ms/epoch - 11ms/step\n",
            "Epoch 4/100\n",
            "38/38 - 0s - loss: 0.0050 - 425ms/epoch - 11ms/step\n",
            "Epoch 5/100\n",
            "38/38 - 0s - loss: 0.0049 - 434ms/epoch - 11ms/step\n",
            "Epoch 6/100\n",
            "38/38 - 0s - loss: 0.0043 - 412ms/epoch - 11ms/step\n",
            "Epoch 7/100\n",
            "38/38 - 0s - loss: 0.0053 - 416ms/epoch - 11ms/step\n",
            "Epoch 8/100\n",
            "38/38 - 0s - loss: 0.0052 - 418ms/epoch - 11ms/step\n",
            "Epoch 9/100\n",
            "38/38 - 0s - loss: 0.0044 - 409ms/epoch - 11ms/step\n",
            "Epoch 10/100\n",
            "38/38 - 0s - loss: 0.0045 - 421ms/epoch - 11ms/step\n",
            "Epoch 11/100\n",
            "38/38 - 0s - loss: 0.0047 - 424ms/epoch - 11ms/step\n",
            "Epoch 12/100\n",
            "38/38 - 0s - loss: 0.0046 - 413ms/epoch - 11ms/step\n",
            "Epoch 13/100\n",
            "38/38 - 0s - loss: 0.0039 - 422ms/epoch - 11ms/step\n",
            "Epoch 14/100\n",
            "38/38 - 0s - loss: 0.0038 - 441ms/epoch - 12ms/step\n",
            "Epoch 15/100\n",
            "38/38 - 0s - loss: 0.0034 - 428ms/epoch - 11ms/step\n",
            "Epoch 16/100\n",
            "38/38 - 0s - loss: 0.0038 - 427ms/epoch - 11ms/step\n",
            "Epoch 17/100\n",
            "38/38 - 0s - loss: 0.0036 - 427ms/epoch - 11ms/step\n",
            "Epoch 18/100\n",
            "38/38 - 0s - loss: 0.0034 - 420ms/epoch - 11ms/step\n",
            "Epoch 19/100\n",
            "38/38 - 0s - loss: 0.0035 - 446ms/epoch - 12ms/step\n",
            "Epoch 20/100\n",
            "38/38 - 0s - loss: 0.0036 - 419ms/epoch - 11ms/step\n",
            "Epoch 21/100\n",
            "38/38 - 0s - loss: 0.0039 - 416ms/epoch - 11ms/step\n",
            "Epoch 22/100\n",
            "38/38 - 0s - loss: 0.0033 - 420ms/epoch - 11ms/step\n",
            "Epoch 23/100\n",
            "38/38 - 0s - loss: 0.0030 - 417ms/epoch - 11ms/step\n",
            "Epoch 24/100\n",
            "38/38 - 0s - loss: 0.0032 - 440ms/epoch - 12ms/step\n",
            "Epoch 25/100\n",
            "38/38 - 0s - loss: 0.0030 - 430ms/epoch - 11ms/step\n",
            "Epoch 26/100\n",
            "38/38 - 0s - loss: 0.0032 - 411ms/epoch - 11ms/step\n",
            "Epoch 27/100\n",
            "38/38 - 0s - loss: 0.0033 - 409ms/epoch - 11ms/step\n",
            "Epoch 28/100\n",
            "38/38 - 0s - loss: 0.0032 - 434ms/epoch - 11ms/step\n",
            "Epoch 29/100\n",
            "38/38 - 0s - loss: 0.0031 - 428ms/epoch - 11ms/step\n",
            "Epoch 30/100\n",
            "38/38 - 0s - loss: 0.0031 - 428ms/epoch - 11ms/step\n",
            "Epoch 31/100\n",
            "38/38 - 0s - loss: 0.0028 - 411ms/epoch - 11ms/step\n",
            "Epoch 32/100\n",
            "38/38 - 0s - loss: 0.0027 - 408ms/epoch - 11ms/step\n",
            "Epoch 33/100\n",
            "38/38 - 0s - loss: 0.0028 - 412ms/epoch - 11ms/step\n",
            "Epoch 34/100\n",
            "38/38 - 0s - loss: 0.0026 - 411ms/epoch - 11ms/step\n",
            "Epoch 35/100\n",
            "38/38 - 0s - loss: 0.0026 - 415ms/epoch - 11ms/step\n",
            "Epoch 36/100\n",
            "38/38 - 0s - loss: 0.0030 - 413ms/epoch - 11ms/step\n",
            "Epoch 37/100\n",
            "38/38 - 0s - loss: 0.0030 - 413ms/epoch - 11ms/step\n",
            "Epoch 38/100\n",
            "38/38 - 0s - loss: 0.0023 - 441ms/epoch - 12ms/step\n",
            "Epoch 39/100\n",
            "38/38 - 0s - loss: 0.0023 - 411ms/epoch - 11ms/step\n",
            "Epoch 40/100\n",
            "38/38 - 0s - loss: 0.0027 - 425ms/epoch - 11ms/step\n",
            "Epoch 41/100\n",
            "38/38 - 0s - loss: 0.0026 - 427ms/epoch - 11ms/step\n",
            "Epoch 42/100\n",
            "38/38 - 0s - loss: 0.0025 - 436ms/epoch - 11ms/step\n",
            "Epoch 43/100\n",
            "38/38 - 0s - loss: 0.0026 - 441ms/epoch - 12ms/step\n",
            "Epoch 44/100\n",
            "38/38 - 0s - loss: 0.0026 - 426ms/epoch - 11ms/step\n",
            "Epoch 45/100\n",
            "38/38 - 0s - loss: 0.0024 - 428ms/epoch - 11ms/step\n",
            "Epoch 46/100\n",
            "38/38 - 0s - loss: 0.0025 - 482ms/epoch - 13ms/step\n",
            "Epoch 47/100\n",
            "38/38 - 0s - loss: 0.0026 - 450ms/epoch - 12ms/step\n",
            "Epoch 48/100\n",
            "38/38 - 0s - loss: 0.0023 - 494ms/epoch - 13ms/step\n",
            "Epoch 49/100\n",
            "38/38 - 0s - loss: 0.0024 - 428ms/epoch - 11ms/step\n",
            "Epoch 50/100\n",
            "38/38 - 0s - loss: 0.0022 - 414ms/epoch - 11ms/step\n",
            "Epoch 51/100\n",
            "38/38 - 0s - loss: 0.0021 - 415ms/epoch - 11ms/step\n",
            "Epoch 52/100\n",
            "38/38 - 0s - loss: 0.0021 - 414ms/epoch - 11ms/step\n",
            "Epoch 53/100\n",
            "38/38 - 0s - loss: 0.0021 - 426ms/epoch - 11ms/step\n",
            "Epoch 54/100\n",
            "38/38 - 0s - loss: 0.0026 - 408ms/epoch - 11ms/step\n",
            "Epoch 55/100\n",
            "38/38 - 0s - loss: 0.0020 - 419ms/epoch - 11ms/step\n",
            "Epoch 56/100\n",
            "38/38 - 0s - loss: 0.0020 - 422ms/epoch - 11ms/step\n",
            "Epoch 57/100\n",
            "38/38 - 0s - loss: 0.0019 - 412ms/epoch - 11ms/step\n",
            "Epoch 58/100\n",
            "38/38 - 0s - loss: 0.0021 - 422ms/epoch - 11ms/step\n",
            "Epoch 59/100\n",
            "38/38 - 0s - loss: 0.0020 - 410ms/epoch - 11ms/step\n",
            "Epoch 60/100\n",
            "38/38 - 0s - loss: 0.0019 - 414ms/epoch - 11ms/step\n",
            "Epoch 61/100\n",
            "38/38 - 0s - loss: 0.0021 - 429ms/epoch - 11ms/step\n",
            "Epoch 62/100\n",
            "38/38 - 0s - loss: 0.0022 - 424ms/epoch - 11ms/step\n",
            "Epoch 63/100\n",
            "38/38 - 0s - loss: 0.0022 - 408ms/epoch - 11ms/step\n",
            "Epoch 64/100\n",
            "38/38 - 0s - loss: 0.0019 - 412ms/epoch - 11ms/step\n",
            "Epoch 65/100\n",
            "38/38 - 0s - loss: 0.0019 - 407ms/epoch - 11ms/step\n",
            "Epoch 66/100\n",
            "38/38 - 0s - loss: 0.0020 - 410ms/epoch - 11ms/step\n",
            "Epoch 67/100\n",
            "38/38 - 0s - loss: 0.0022 - 409ms/epoch - 11ms/step\n",
            "Epoch 68/100\n",
            "38/38 - 0s - loss: 0.0019 - 415ms/epoch - 11ms/step\n",
            "Epoch 69/100\n",
            "38/38 - 0s - loss: 0.0019 - 410ms/epoch - 11ms/step\n",
            "Epoch 70/100\n",
            "38/38 - 0s - loss: 0.0017 - 411ms/epoch - 11ms/step\n",
            "Epoch 71/100\n",
            "38/38 - 0s - loss: 0.0018 - 439ms/epoch - 12ms/step\n",
            "Epoch 72/100\n",
            "38/38 - 0s - loss: 0.0017 - 420ms/epoch - 11ms/step\n",
            "Epoch 73/100\n",
            "38/38 - 0s - loss: 0.0018 - 431ms/epoch - 11ms/step\n",
            "Epoch 74/100\n",
            "38/38 - 0s - loss: 0.0018 - 415ms/epoch - 11ms/step\n",
            "Epoch 75/100\n",
            "38/38 - 0s - loss: 0.0019 - 415ms/epoch - 11ms/step\n",
            "Epoch 76/100\n",
            "38/38 - 0s - loss: 0.0016 - 419ms/epoch - 11ms/step\n",
            "Epoch 77/100\n",
            "38/38 - 0s - loss: 0.0016 - 414ms/epoch - 11ms/step\n",
            "Epoch 78/100\n",
            "38/38 - 0s - loss: 0.0018 - 414ms/epoch - 11ms/step\n",
            "Epoch 79/100\n",
            "38/38 - 0s - loss: 0.0019 - 415ms/epoch - 11ms/step\n",
            "Epoch 80/100\n",
            "38/38 - 0s - loss: 0.0016 - 417ms/epoch - 11ms/step\n",
            "Epoch 81/100\n",
            "38/38 - 0s - loss: 0.0017 - 410ms/epoch - 11ms/step\n",
            "Epoch 82/100\n",
            "38/38 - 0s - loss: 0.0016 - 421ms/epoch - 11ms/step\n",
            "Epoch 83/100\n",
            "38/38 - 0s - loss: 0.0019 - 419ms/epoch - 11ms/step\n",
            "Epoch 84/100\n",
            "38/38 - 0s - loss: 0.0016 - 410ms/epoch - 11ms/step\n",
            "Epoch 85/100\n",
            "38/38 - 0s - loss: 0.0015 - 414ms/epoch - 11ms/step\n",
            "Epoch 86/100\n",
            "38/38 - 0s - loss: 0.0017 - 409ms/epoch - 11ms/step\n",
            "Epoch 87/100\n",
            "38/38 - 0s - loss: 0.0016 - 411ms/epoch - 11ms/step\n",
            "Epoch 88/100\n",
            "38/38 - 0s - loss: 0.0016 - 414ms/epoch - 11ms/step\n",
            "Epoch 89/100\n",
            "38/38 - 0s - loss: 0.0015 - 422ms/epoch - 11ms/step\n",
            "Epoch 90/100\n",
            "38/38 - 0s - loss: 0.0017 - 436ms/epoch - 11ms/step\n",
            "Epoch 91/100\n",
            "38/38 - 0s - loss: 0.0015 - 441ms/epoch - 12ms/step\n",
            "Epoch 92/100\n",
            "38/38 - 0s - loss: 0.0015 - 424ms/epoch - 11ms/step\n",
            "Epoch 93/100\n",
            "38/38 - 0s - loss: 0.0015 - 432ms/epoch - 11ms/step\n",
            "Epoch 94/100\n",
            "38/38 - 0s - loss: 0.0014 - 451ms/epoch - 12ms/step\n",
            "Epoch 95/100\n",
            "38/38 - 0s - loss: 0.0014 - 416ms/epoch - 11ms/step\n",
            "Epoch 96/100\n",
            "38/38 - 0s - loss: 0.0016 - 420ms/epoch - 11ms/step\n",
            "Epoch 97/100\n",
            "38/38 - 0s - loss: 0.0015 - 413ms/epoch - 11ms/step\n",
            "Epoch 98/100\n",
            "38/38 - 0s - loss: 0.0015 - 409ms/epoch - 11ms/step\n",
            "Epoch 99/100\n",
            "38/38 - 0s - loss: 0.0014 - 413ms/epoch - 11ms/step\n",
            "Epoch 100/100\n",
            "38/38 - 0s - loss: 0.0013 - 414ms/epoch - 11ms/step\n"
          ]
        },
        {
          "output_type": "execute_result",
          "data": {
            "text/plain": [
              "<keras.callbacks.History at 0x7f51712a1ad0>"
            ]
          },
          "metadata": {},
          "execution_count": 46
        }
      ]
    },
    {
      "cell_type": "markdown",
      "source": [
        "#Making the predictions and Visualizing the results"
      ],
      "metadata": {
        "id": "8QEL8gzjj42z"
      }
    },
    {
      "cell_type": "markdown",
      "source": [
        "#Getting real stock prices of 2017"
      ],
      "metadata": {
        "id": "4YZGeuhSj-oA"
      }
    },
    {
      "cell_type": "code",
      "source": [
        "dataset_test=pd.read_csv(\"Google_Stock_Price_Test.csv\")"
      ],
      "metadata": {
        "id": "5Tm2ewKXj90-"
      },
      "execution_count": 47,
      "outputs": []
    },
    {
      "cell_type": "code",
      "source": [
        "real_stock_price = dataset_test.iloc[:,1:2].values"
      ],
      "metadata": {
        "id": "P2dxPWeGk6o7"
      },
      "execution_count": 48,
      "outputs": []
    },
    {
      "cell_type": "markdown",
      "source": [
        "#Gettig the predicted stock prices 2017"
      ],
      "metadata": {
        "id": "hxOtsqo_l3me"
      }
    },
    {
      "cell_type": "code",
      "source": [
        "dataset_total = pd.concat((dataset_train[\"Open\"], dataset_test[\"Open\"]), axis =0)"
      ],
      "metadata": {
        "id": "7QltGtmfnKd9"
      },
      "execution_count": 49,
      "outputs": []
    },
    {
      "cell_type": "code",
      "source": [
        "inputs = dataset_total[len(dataset_total)-len(dataset_test)-60:].values"
      ],
      "metadata": {
        "id": "ZoIlaSdup8Ve"
      },
      "execution_count": 50,
      "outputs": []
    },
    {
      "cell_type": "code",
      "source": [
        "inputs"
      ],
      "metadata": {
        "colab": {
          "base_uri": "https://localhost:8080/"
        },
        "id": "_-lxHaFRsMIh",
        "outputId": "ae175105-e456-4e2d-8ba7-059ebaea7cde"
      },
      "execution_count": 51,
      "outputs": [
        {
          "output_type": "execute_result",
          "data": {
            "text/plain": [
              "array([779.  , 779.66, 777.71, 786.66, 783.76, 781.22, 781.65, 779.8 ,\n",
              "       787.85, 798.24, 803.3 , 795.  , 804.9 , 816.68, 806.34, 801.  ,\n",
              "       808.35, 795.47, 782.89, 778.2 , 767.25, 750.66, 774.5 , 783.4 ,\n",
              "       779.94, 791.17, 756.54, 755.6 , 746.97, 755.2 , 766.92, 771.37,\n",
              "       762.61, 772.63, 767.73, 764.26, 760.  , 771.53, 770.07, 757.44,\n",
              "       744.59, 757.71, 764.73, 761.  , 772.48, 780.  , 785.04, 793.9 ,\n",
              "       797.4 , 797.34, 800.4 , 790.22, 796.76, 795.84, 792.36, 790.9 ,\n",
              "       790.68, 793.7 , 783.33, 782.75, 778.81, 788.36, 786.08, 795.26,\n",
              "       806.4 , 807.86, 805.  , 807.14, 807.48, 807.08, 805.81, 805.12,\n",
              "       806.91, 807.25, 822.3 , 829.62, 837.81, 834.71, 814.66, 796.86])"
            ]
          },
          "metadata": {},
          "execution_count": 51
        }
      ]
    },
    {
      "cell_type": "code",
      "source": [
        "inputs=inputs.reshape(-1,1)"
      ],
      "metadata": {
        "id": "GrRgvs21sPnD"
      },
      "execution_count": 52,
      "outputs": []
    },
    {
      "cell_type": "code",
      "source": [
        "inputs= sc.transform(inputs)"
      ],
      "metadata": {
        "id": "KY4e2X70sUpl"
      },
      "execution_count": 53,
      "outputs": []
    },
    {
      "cell_type": "code",
      "source": [
        "inputs"
      ],
      "metadata": {
        "id": "Y1jUnshXtA2u"
      },
      "execution_count": null,
      "outputs": []
    },
    {
      "cell_type": "markdown",
      "source": [
        ""
      ],
      "metadata": {
        "id": "Iyfl-o9Ytm2i"
      }
    },
    {
      "cell_type": "code",
      "source": [
        "X_test = []\n",
        "\n",
        "for i in range(60, 80):\n",
        "    X_test.append(inputs[i-60:i, 0])\n",
        "    \n",
        "X_test = np.array(X_test)"
      ],
      "metadata": {
        "id": "U4I9W-JWtnas"
      },
      "execution_count": 55,
      "outputs": []
    },
    {
      "cell_type": "code",
      "source": [
        "# Reshaping\n",
        "X_test = np.reshape(X_test, (X_test.shape[0], X_test.shape[1], 1))"
      ],
      "metadata": {
        "id": "k4YX_1-bu814"
      },
      "execution_count": 56,
      "outputs": []
    },
    {
      "cell_type": "code",
      "source": [
        "predicted_stock_price =regressor.predict(X_test)"
      ],
      "metadata": {
        "id": "fkdAYRRHwsq3"
      },
      "execution_count": 57,
      "outputs": []
    },
    {
      "cell_type": "code",
      "source": [
        "predicted_stock_price=sc.inverse_transform(predicted_stock_price)"
      ],
      "metadata": {
        "id": "tKYpWQhOwsyM"
      },
      "execution_count": 59,
      "outputs": []
    },
    {
      "cell_type": "code",
      "source": [
        "predicted_stock_price"
      ],
      "metadata": {
        "colab": {
          "base_uri": "https://localhost:8080/"
        },
        "id": "tnf-0ITqxNMT",
        "outputId": "150d5886-649a-4ad2-c64f-3c44a9310f5c"
      },
      "execution_count": 60,
      "outputs": [
        {
          "output_type": "execute_result",
          "data": {
            "text/plain": [
              "array([[780.06177],\n",
              "       [777.1038 ],\n",
              "       [777.09973],\n",
              "       [778.5855 ],\n",
              "       [782.04974],\n",
              "       [788.03564],\n",
              "       [793.64685],\n",
              "       [796.01355],\n",
              "       [796.2182 ],\n",
              "       [795.74304],\n",
              "       [795.35425],\n",
              "       [795.0807 ],\n",
              "       [794.9413 ],\n",
              "       [795.4866 ],\n",
              "       [796.47284],\n",
              "       [800.9461 ],\n",
              "       [807.8959 ],\n",
              "       [815.4047 ],\n",
              "       [819.55963],\n",
              "       [815.5218 ]], dtype=float32)"
            ]
          },
          "metadata": {},
          "execution_count": 60
        }
      ]
    },
    {
      "cell_type": "markdown",
      "source": [
        "#Visualize the results"
      ],
      "metadata": {
        "id": "fdIMxTq5nErQ"
      }
    },
    {
      "cell_type": "code",
      "source": [
        "plt.plot(real_stock_price, color = 'red', label = 'Real Google Stock Price')\n",
        "plt.plot(predicted_stock_price, color = 'blue', label = 'Predicted Google Stock Price')\n",
        "plt.title('Google Stock Price Prediction')\n",
        "plt.xlabel('Time')\n",
        "plt.ylabel('Google Stock Price')\n",
        "plt.legend()\n",
        "plt.show()"
      ],
      "metadata": {
        "colab": {
          "base_uri": "https://localhost:8080/",
          "height": 295
        },
        "id": "zFUU2U6NtWwV",
        "outputId": "201a55b2-7441-4cb1-e423-626ae1f13480"
      },
      "execution_count": 61,
      "outputs": [
        {
          "output_type": "display_data",
          "data": {
            "text/plain": [
              "<Figure size 432x288 with 1 Axes>"
            ],
            "image/png": "[encoded data removed]"
          },
          "metadata": {
            "needs_background": "light"
          }
        }
      ]
    }
  ]
}