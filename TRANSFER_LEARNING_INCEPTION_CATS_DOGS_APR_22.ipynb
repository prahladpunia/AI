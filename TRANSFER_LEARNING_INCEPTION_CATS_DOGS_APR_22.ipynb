{
  "cells": [
    {
      "cell_type": "markdown",
      "metadata": {
        "id": "view-in-github",
        "colab_type": "text"
      },
      "source": [
        "<a href=\"https://colab.research.google.com/github/prahladpunia/AI/blob/main/TRANSFER_LEARNING_INCEPTION_CATS_DOGS_APR_22.ipynb\" target=\"_parent\"><img src=\"https://colab.research.google.com/assets/colab-badge.svg\" alt=\"Open In Colab\"/></a>"
      ]
    },
    {
      "cell_type": "markdown",
      "metadata": {
        "id": "d3d6-RTVq5ZC"
      },
      "source": [
        "# Part 7 - Lesson 3 - Notebook"
      ]
    },
    {
      "cell_type": "code",
      "execution_count": null,
      "metadata": {
        "id": "aJVRnBFHCgPr"
      },
      "outputs": [],
      "source": [
        "! pip install wget"
      ]
    },
    {
      "cell_type": "code",
      "execution_count": 2,
      "metadata": {
        "id": "PgRNNHsaCgPs"
      },
      "outputs": [],
      "source": [
        "import wget\n",
        "import os"
      ]
    },
    {
      "cell_type": "code",
      "execution_count": 3,
      "metadata": {
        "colab": {
          "base_uri": "https://localhost:8080/"
        },
        "id": "1xJZ5glPPCRz",
        "outputId": "cbb25ec4-9203-4ce9-eb4b-608c8b58d5b4"
      },
      "outputs": [
        {
          "output_type": "stream",
          "name": "stdout",
          "text": [
            "--2022-04-20 17:35:28--  https://storage.googleapis.com/mledu-datasets/inception_v3_weights_tf_dim_ordering_tf_kernels_notop.h5\n",
            "Resolving storage.googleapis.com (storage.googleapis.com)... 74.125.68.128, 74.125.24.128, 142.251.10.128, ...\n",
            "Connecting to storage.googleapis.com (storage.googleapis.com)|74.125.68.128|:443... connected.\n",
            "HTTP request sent, awaiting response... 200 OK\n",
            "Length: 87910968 (84M) [application/x-hdf]\n",
            "Saving to: ‘/tmp/inception_v3_weights_tf_dim_ordering_tf_kernels_notop.h5’\n",
            "\n",
            "/tmp/inception_v3_w 100%[===================>]  83.84M  42.0MB/s    in 2.0s    \n",
            "\n",
            "2022-04-20 17:35:31 (42.0 MB/s) - ‘/tmp/inception_v3_weights_tf_dim_ordering_tf_kernels_notop.h5’ saved [87910968/87910968]\n",
            "\n",
            "last layer output shape:  (None, 7, 7, 768)\n"
          ]
        }
      ],
      "source": [
        "from tensorflow.keras import layers\n",
        "from tensorflow.keras import Model\n",
        "!wget --no-check-certificate \\\n",
        "    https://storage.googleapis.com/mledu-datasets/inception_v3_weights_tf_dim_ordering_tf_kernels_notop.h5 \\\n",
        "    -O /tmp/inception_v3_weights_tf_dim_ordering_tf_kernels_notop.h5\n",
        "  \n",
        "from tensorflow.keras.applications.inception_v3 import InceptionV3\n",
        "\n",
        "local_weights_file = '/tmp/inception_v3_weights_tf_dim_ordering_tf_kernels_notop.h5'\n",
        "\n",
        "pre_trained_model = InceptionV3(input_shape = (150, 150, 3), \n",
        "                                include_top = False, \n",
        "                                weights = None)\n",
        "\n",
        "pre_trained_model.load_weights(local_weights_file)\n",
        "\n",
        "for layer in pre_trained_model.layers:\n",
        "  layer.trainable = False\n",
        "\n",
        "# pre_trained_model.summary()\n",
        "\n",
        "last_layer = pre_trained_model.get_layer('mixed7')\n",
        "print('last layer output shape: ', last_layer.output_shape)\n",
        "last_output = last_layer.output"
      ]
    },
    {
      "cell_type": "code",
      "execution_count": 4,
      "metadata": {
        "id": "BMXb913pbvFg"
      },
      "outputs": [],
      "source": [
        "from tensorflow.keras.optimizers import RMSprop\n",
        "\n",
        "# Flatten the output layer to 1 dimension\n",
        "x = layers.Flatten()(last_output)\n",
        "# Add a fully connected layer with 1,024 hidden units and ReLU activation\n",
        "x = layers.Dense(1024, activation='relu')(x)\n",
        "# Add a dropout rate of 0.2\n",
        "x = layers.Dropout(0.2)(x)                  \n",
        "# Add a final sigmoid layer for classification\n",
        "x = layers.Dense  (1, activation='sigmoid')(x)           \n",
        "\n",
        "model = Model( pre_trained_model.input, x) \n",
        "\n",
        "model.compile(optimizer = RMSprop(learning_rate=0.0001), \n",
        "              loss = 'binary_crossentropy', \n",
        "              metrics = ['acc'])"
      ]
    },
    {
      "cell_type": "code",
      "execution_count": 5,
      "metadata": {
        "colab": {
          "base_uri": "https://localhost:8080/"
        },
        "id": "O4s8HckqGlnb",
        "outputId": "6f9e5230-f451-4593-ba44-97adb10cc16f"
      },
      "outputs": [
        {
          "output_type": "stream",
          "name": "stdout",
          "text": [
            "--2022-04-20 17:35:49--  https://storage.googleapis.com/mledu-datasets/cats_and_dogs_filtered.zip\n",
            "Resolving storage.googleapis.com (storage.googleapis.com)... 74.125.24.128, 142.251.10.128, 142.251.12.128, ...\n",
            "Connecting to storage.googleapis.com (storage.googleapis.com)|74.125.24.128|:443... connected.\n",
            "HTTP request sent, awaiting response... 200 OK\n",
            "Length: 68606236 (65M) [application/zip]\n",
            "Saving to: ‘/tmp/cats_and_dogs_filtered.zip’\n",
            "\n",
            "/tmp/cats_and_dogs_ 100%[===================>]  65.43M  44.5MB/s    in 1.5s    \n",
            "\n",
            "2022-04-20 17:35:51 (44.5 MB/s) - ‘/tmp/cats_and_dogs_filtered.zip’ saved [68606236/68606236]\n",
            "\n",
            "Found 2000 images belonging to 2 classes.\n",
            "Found 1000 images belonging to 2 classes.\n"
          ]
        }
      ],
      "source": [
        "!wget --no-check-certificate \\\n",
        "        https://storage.googleapis.com/mledu-datasets/cats_and_dogs_filtered.zip \\\n",
        "       -O /tmp/cats_and_dogs_filtered.zip\n",
        "\n",
        "from tensorflow.keras.preprocessing.image import ImageDataGenerator\n",
        "\n",
        "import os\n",
        "import zipfile\n",
        "\n",
        "local_zip = '/tmp/cats_and_dogs_filtered.zip'\n",
        "\n",
        "zip_ref = zipfile.ZipFile(local_zip, 'r')\n",
        "\n",
        "zip_ref.extractall('/tmp')\n",
        "zip_ref.close()\n",
        "\n",
        "# Define our example directories and files\n",
        "base_dir = '/tmp/cats_and_dogs_filtered'\n",
        "\n",
        "train_dir = os.path.join( base_dir, 'train')\n",
        "validation_dir = os.path.join( base_dir, 'validation')\n",
        "\n",
        "train_cats_dir = os.path.join(train_dir, 'cats') # Directory with our training cat pictures\n",
        "train_dogs_dir = os.path.join(train_dir, 'dogs') # Directory with our training dog pictures\n",
        "validation_cats_dir = os.path.join(validation_dir, 'cats') # Directory with our validation cat pictures\n",
        "validation_dogs_dir = os.path.join(validation_dir, 'dogs')# Directory with our validation dog pictures\n",
        "\n",
        "train_cat_fnames = os.listdir(train_cats_dir)\n",
        "train_dog_fnames = os.listdir(train_dogs_dir)\n",
        "\n",
        "# Add our data-augmentation parameters to ImageDataGenerator\n",
        "train_datagen = ImageDataGenerator(rescale = 1./255.,\n",
        "                                   rotation_range = 40,\n",
        "                                   width_shift_range = 0.2,\n",
        "                                   height_shift_range = 0.2,\n",
        "                                   shear_range = 0.2,\n",
        "                                   zoom_range = 0.2,\n",
        "                                   horizontal_flip = True)\n",
        "\n",
        "# Note that the validation data should not be augmented!\n",
        "test_datagen = ImageDataGenerator( rescale = 1.0/255. )\n",
        "\n",
        "# Flow training images in batches of 20 using train_datagen generator\n",
        "train_generator = train_datagen.flow_from_directory(train_dir,\n",
        "                                                    batch_size = 20,\n",
        "                                                    class_mode = 'binary', \n",
        "                                                    target_size = (150, 150))\n",
        "\n",
        "# Flow validation images in batches of 20 using test_datagen generator\n",
        "validation_generator =  test_datagen.flow_from_directory( validation_dir,\n",
        "                                                          batch_size  = 20,\n",
        "                                                          class_mode  = 'binary', \n",
        "                                                          target_size = (150, 150))"
      ]
    },
    {
      "cell_type": "code",
      "execution_count": 6,
      "metadata": {
        "colab": {
          "base_uri": "https://localhost:8080/"
        },
        "id": "Blhq2MAUeyGA",
        "outputId": "2fe1644f-e602-4cab-ad51-50b6eeeddd3c"
      },
      "outputs": [
        {
          "output_type": "stream",
          "name": "stdout",
          "text": [
            "Epoch 1/20\n",
            "100/100 - 34s - loss: 0.3526 - acc: 0.8635 - val_loss: 0.1061 - val_acc: 0.9540 - 34s/epoch - 342ms/step\n",
            "Epoch 2/20\n",
            "100/100 - 19s - loss: 0.2262 - acc: 0.9050 - val_loss: 0.1307 - val_acc: 0.9520 - 19s/epoch - 193ms/step\n",
            "Epoch 3/20\n",
            "100/100 - 19s - loss: 0.2169 - acc: 0.9165 - val_loss: 0.1466 - val_acc: 0.9450 - 19s/epoch - 187ms/step\n",
            "Epoch 4/20\n",
            "100/100 - 19s - loss: 0.2049 - acc: 0.9300 - val_loss: 0.0905 - val_acc: 0.9660 - 19s/epoch - 189ms/step\n",
            "Epoch 5/20\n",
            "100/100 - 19s - loss: 0.1883 - acc: 0.9375 - val_loss: 0.1648 - val_acc: 0.9480 - 19s/epoch - 186ms/step\n",
            "Epoch 6/20\n",
            "100/100 - 18s - loss: 0.1867 - acc: 0.9325 - val_loss: 0.1165 - val_acc: 0.9600 - 18s/epoch - 183ms/step\n",
            "Epoch 7/20\n",
            "100/100 - 18s - loss: 0.1875 - acc: 0.9350 - val_loss: 0.1138 - val_acc: 0.9650 - 18s/epoch - 182ms/step\n",
            "Epoch 8/20\n",
            "100/100 - 18s - loss: 0.1695 - acc: 0.9425 - val_loss: 0.1363 - val_acc: 0.9650 - 18s/epoch - 182ms/step\n",
            "Epoch 9/20\n",
            "100/100 - 18s - loss: 0.1704 - acc: 0.9410 - val_loss: 0.1120 - val_acc: 0.9680 - 18s/epoch - 183ms/step\n",
            "Epoch 10/20\n",
            "100/100 - 19s - loss: 0.1576 - acc: 0.9390 - val_loss: 0.1124 - val_acc: 0.9670 - 19s/epoch - 188ms/step\n",
            "Epoch 11/20\n",
            "100/100 - 19s - loss: 0.1482 - acc: 0.9505 - val_loss: 0.1144 - val_acc: 0.9620 - 19s/epoch - 189ms/step\n",
            "Epoch 12/20\n",
            "100/100 - 19s - loss: 0.1344 - acc: 0.9550 - val_loss: 0.2605 - val_acc: 0.9340 - 19s/epoch - 191ms/step\n",
            "Epoch 13/20\n",
            "100/100 - 18s - loss: 0.1398 - acc: 0.9560 - val_loss: 0.1902 - val_acc: 0.9470 - 18s/epoch - 185ms/step\n",
            "Epoch 14/20\n",
            "100/100 - 18s - loss: 0.1508 - acc: 0.9550 - val_loss: 0.1210 - val_acc: 0.9690 - 18s/epoch - 185ms/step\n",
            "Epoch 15/20\n",
            "100/100 - 19s - loss: 0.1345 - acc: 0.9575 - val_loss: 0.1751 - val_acc: 0.9550 - 19s/epoch - 186ms/step\n",
            "Epoch 16/20\n",
            "100/100 - 19s - loss: 0.1372 - acc: 0.9555 - val_loss: 0.1216 - val_acc: 0.9650 - 19s/epoch - 187ms/step\n",
            "Epoch 17/20\n",
            "100/100 - 19s - loss: 0.1420 - acc: 0.9575 - val_loss: 0.1122 - val_acc: 0.9730 - 19s/epoch - 186ms/step\n",
            "Epoch 18/20\n",
            "100/100 - 18s - loss: 0.1316 - acc: 0.9595 - val_loss: 0.1622 - val_acc: 0.9600 - 18s/epoch - 184ms/step\n",
            "Epoch 19/20\n",
            "100/100 - 18s - loss: 0.1287 - acc: 0.9515 - val_loss: 0.1208 - val_acc: 0.9710 - 18s/epoch - 183ms/step\n",
            "Epoch 20/20\n",
            "100/100 - 18s - loss: 0.1282 - acc: 0.9560 - val_loss: 0.1501 - val_acc: 0.9590 - 18s/epoch - 184ms/step\n"
          ]
        }
      ],
      "source": [
        "history = model.fit(\n",
        "            train_generator,\n",
        "            validation_data = validation_generator,\n",
        "            steps_per_epoch = 100,\n",
        "            epochs = 20,\n",
        "            validation_steps = 50,\n",
        "            verbose = 2)"
      ]
    },
    {
      "cell_type": "code",
      "execution_count": null,
      "metadata": {
        "colab": {
          "height": 306
        },
        "id": "C2Fp6Se9rKuL",
        "outputId": "498822a1-4a8d-4840-cdb9-26366f754c41"
      },
      "outputs": [
        {
          "data": {
            "image/png": "[encoded data removed]",
            "text/plain": [
              "<Figure size 432x288 with 1 Axes>"
            ]
          },
          "metadata": {
            "needs_background": "light"
          },
          "output_type": "display_data"
        },
        {
          "data": {
            "text/plain": [
              "<Figure size 432x288 with 0 Axes>"
            ]
          },
          "metadata": {},
          "output_type": "display_data"
        }
      ],
      "source": [
        "import matplotlib.pyplot as plt\n",
        "acc = history.history['acc']\n",
        "val_acc = history.history['val_acc']\n",
        "loss = history.history['loss']\n",
        "val_loss = history.history['val_loss']\n",
        "\n",
        "epochs = range(len(acc))\n",
        "\n",
        "plt.plot(epochs, acc, 'r', label='Training accuracy')\n",
        "plt.plot(epochs, val_acc, 'b', label='Validation accuracy')\n",
        "plt.title('Training and validation accuracy')\n",
        "plt.legend(loc=0)\n",
        "plt.figure()\n",
        "\n",
        "plt.show()"
      ]
    },
    {
      "cell_type": "code",
      "execution_count": null,
      "metadata": {
        "id": "MlLYiISzCgPx"
      },
      "outputs": [],
      "source": [
        ""
      ]
    }
  ],
  "metadata": {
    "accelerator": "GPU",
    "colab": {
      "collapsed_sections": [],
      "name": "TRANSFER_LEARNING_INCEPTION_CATS_DOGS_APR_22.ipynb",
      "provenance": [],
      "include_colab_link": true
    },
    "kernelspec": {
      "display_name": "Python 3",
      "language": "python",
      "name": "python3"
    },
    "language_info": {
      "codemirror_mode": {
        "name": "ipython",
        "version": 3
      },
      "file_extension": ".py",
      "mimetype": "text/x-python",
      "name": "python",
      "nbconvert_exporter": "python",
      "pygments_lexer": "ipython3",
      "version": "3.9.5"
    }
  },
  "nbformat": 4,
  "nbformat_minor": 0
}