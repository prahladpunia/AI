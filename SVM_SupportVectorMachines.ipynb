{
  "nbformat": 4,
  "nbformat_minor": 0,
  "metadata": {
    "colab": {
      "private_outputs": true,
      "provenance": [],
      "authorship_tag": "ABX9TyP7KZIBpQ3ZWV4L2vR73pSE",
      "include_colab_link": true
    },
    "kernelspec": {
      "name": "python3",
      "display_name": "Python 3"
    },
    "language_info": {
      "name": "python"
    }
  },
  "cells": [
    {
      "cell_type": "markdown",
      "metadata": {
        "id": "view-in-github",
        "colab_type": "text"
      },
      "source": [
        "<a href=\"https://colab.research.google.com/github/prahladpunia/AI/blob/main/SVM_SupportVectorMachines.ipynb\" target=\"_parent\"><img src=\"https://colab.research.google.com/assets/colab-badge.svg\" alt=\"Open In Colab\"/></a>"
      ]
    },
    {
      "cell_type": "code",
      "execution_count": null,
      "metadata": {
        "id": "n4MFmFZ__lMU"
      },
      "outputs": [],
      "source": [
        "import pandas as pd\n",
        "import sklearn\n",
        "from sklearn import datasets\n",
        "import sklearn.model_selection\n",
        "from sklearn import svm"
      ]
    },
    {
      "cell_type": "code",
      "source": [
        "import sklearn.datasets as ds\n",
        "\n",
        "# Get the list of dataset names\n",
        "def get_dataset_names():\n",
        "    \"\"\"\n",
        "    Get the list of dataset names in scikit-learn.\n",
        "\n",
        "    Returns:\n",
        "        list: A list of dataset names.\n",
        "    \"\"\"\n",
        "\n",
        "    if hasattr(ds, 'get_dataset_names'):\n",
        "        return ds.get_dataset_names()\n",
        "    else:\n",
        "        return list(ds.__dict__.keys())\n",
        "\n",
        "# Get the list of dataset names\n",
        "dataset_names = get_dataset_names()\n",
        "\n",
        "# Print the list of dataset names\n",
        "for name in dataset_names:\n",
        "    print(name)"
      ],
      "metadata": {
        "id": "mfXNarOASkbE"
      },
      "execution_count": null,
      "outputs": []
    },
    {
      "cell_type": "code",
      "source": [
        "# Import the dataset\n",
        "df_ = datasets.load_iris()\n",
        "df = pd.DataFrame()\n",
        "df['petal_length'] = df_['data'][:,2]\n",
        "df['petal_width'] = df_['data'][:,3]\n",
        "df['target'] = df_['target'] == 1"
      ],
      "metadata": {
        "id": "bEnkYkVU_7gb"
      },
      "execution_count": null,
      "outputs": []
    },
    {
      "cell_type": "code",
      "source": [],
      "metadata": {
        "id": "hJIidhxGSiYW"
      },
      "execution_count": null,
      "outputs": []
    },
    {
      "cell_type": "code",
      "source": [
        "# Define train and test sets\n",
        "X_train, X_test, y_train, y_test = sklearn.model_selection.train_test_split(df[['petal_length', 'petal_width']],\n",
        "                                        df['target'],\n",
        "                                        test_size=0.2,\n",
        "                                        random_state=42)"
      ],
      "metadata": {
        "id": "5sSH_pLpAC2d"
      },
      "execution_count": null,
      "outputs": []
    },
    {
      "cell_type": "code",
      "source": [
        "# Normalize data\n",
        "scaler = sklearn.preprocessing.StandardScaler()\n",
        "X_train = scaler.fit_transform(X_train)"
      ],
      "metadata": {
        "id": "R2giq2oWAWXO"
      },
      "execution_count": null,
      "outputs": []
    },
    {
      "cell_type": "code",
      "source": [
        "# Instantiate the classifier model\n",
        "svm_classifier = sklearn.svm.LinearSVC()"
      ],
      "metadata": {
        "id": "G0QvzflFAc3K"
      },
      "execution_count": null,
      "outputs": []
    },
    {
      "cell_type": "code",
      "source": [
        "# Fit the model with the training data\n",
        "svm_classifier.fit(X_train, y_train)"
      ],
      "metadata": {
        "id": "Eu2v6-9FAudI"
      },
      "execution_count": null,
      "outputs": []
    },
    {
      "cell_type": "code",
      "source": [
        "# Predict new intances classes\n",
        "y_predicted = svm_classifier.predict(scaler.transform(X_test))"
      ],
      "metadata": {
        "id": "NAtYhiUGA7zd"
      },
      "execution_count": null,
      "outputs": []
    },
    {
      "cell_type": "code",
      "source": [
        "# Evaluate model's accuracy\n",
        "accuracy = sklearn.metrics.accuracy_score(y_test, y_predicted)\n",
        "print(accuracy)"
      ],
      "metadata": {
        "id": "42qOhohjBFO6"
      },
      "execution_count": null,
      "outputs": []
    },
    {
      "cell_type": "code",
      "source": [
        "# Method 1\n",
        "svm_classifier_soft = sklearn.svm.LinearSVC(C=10)\n",
        "svm_classifier_soft.fit(X_train, y_train)\n"
      ],
      "metadata": {
        "id": "mrss_8WNB_Yv"
      },
      "execution_count": null,
      "outputs": []
    },
    {
      "cell_type": "code",
      "source": [
        "# Predict new intances classes\n",
        "y_predicted = svm_classifier_soft.predict(scaler.transform(X_test))"
      ],
      "metadata": {
        "id": "vcoMyxqPCbdD"
      },
      "execution_count": null,
      "outputs": []
    },
    {
      "cell_type": "code",
      "source": [
        "# Evaluate model's accuracy\n",
        "accuracy = sklearn.metrics.accuracy_score(y_test, y_predicted)\n",
        "print(accuracy)"
      ],
      "metadata": {
        "id": "_QTNpmEdCi50"
      },
      "execution_count": null,
      "outputs": []
    },
    {
      "cell_type": "code",
      "source": [],
      "metadata": {
        "id": "-nckpgtOCqNF"
      },
      "execution_count": null,
      "outputs": []
    },
    {
      "cell_type": "code",
      "source": [
        "# Method 2\n",
        "svm_classifier_soft2 = sklearn.svm.SVC(kernel='linear', C=10)\n",
        "svm_classifier_soft2.fit(X_train, y_train)"
      ],
      "metadata": {
        "id": "DqWP6-VmCEoM"
      },
      "execution_count": null,
      "outputs": []
    },
    {
      "cell_type": "code",
      "source": [
        "# Predict new intances classes\n",
        "y_predicted = svm_classifier_soft2.predict(scaler.transform(X_test))"
      ],
      "metadata": {
        "id": "s7klhp3ICrkD"
      },
      "execution_count": null,
      "outputs": []
    },
    {
      "cell_type": "code",
      "source": [
        "# Evaluate model's accuracy\n",
        "accuracy = sklearn.metrics.accuracy_score(y_test, y_predicted)\n",
        "print(accuracy)"
      ],
      "metadata": {
        "id": "Aal9_onGCH15"
      },
      "execution_count": null,
      "outputs": []
    },
    {
      "cell_type": "code",
      "source": [],
      "metadata": {
        "id": "iZ8jgWToDoEJ"
      },
      "execution_count": null,
      "outputs": []
    },
    {
      "cell_type": "code",
      "source": [
        "# Instantiate the classifier object\n",
        "SVM_classifier = sklearn.svm.SVC(kernel='poly', degree=5, C=10, coef0=1)\n"
      ],
      "metadata": {
        "id": "vyDy7DsfDoMw"
      },
      "execution_count": null,
      "outputs": []
    },
    {
      "cell_type": "code",
      "source": [
        "# Instantiate the scaler object\n",
        "scaler = sklearn.preprocessing.StandardScaler()\n"
      ],
      "metadata": {
        "id": "ZCmCfLuGDpy4"
      },
      "execution_count": null,
      "outputs": []
    },
    {
      "cell_type": "code",
      "source": [
        "# Normalize data\n",
        "X_train = scaler.fit_transform(X_train)"
      ],
      "metadata": {
        "id": "-guwRJUrDuq3"
      },
      "execution_count": null,
      "outputs": []
    },
    {
      "cell_type": "code",
      "source": [
        "# Train the classifier\n",
        "SVM_classifier.fit(X_train, y_train)"
      ],
      "metadata": {
        "id": "v9NiqISwDxcJ"
      },
      "execution_count": null,
      "outputs": []
    },
    {
      "cell_type": "code",
      "source": [
        "# Predict new intances classes\n",
        "y_predicted = svm_classifier_soft2.predict(scaler.transform(X_test))"
      ],
      "metadata": {
        "id": "xnZPMLlOD-Iv"
      },
      "execution_count": null,
      "outputs": []
    },
    {
      "cell_type": "code",
      "source": [
        "# Evaluate model's accuracy\n",
        "accuracy = sklearn.metrics.accuracy_score(y_test, y_predicted)\n",
        "print(accuracy)"
      ],
      "metadata": {
        "id": "2lv2apVDEDBn"
      },
      "execution_count": null,
      "outputs": []
    },
    {
      "cell_type": "code",
      "source": [],
      "metadata": {
        "id": "tVOdipREFA-i"
      },
      "execution_count": null,
      "outputs": []
    },
    {
      "cell_type": "code",
      "source": [
        "import pandas as pd\n",
        "import sklearn\n",
        "from sklearn import datasets\n",
        "\n",
        "# Import the dataset\n",
        "df_ = datasets.load_iris()\n",
        "df = pd.DataFrame()\n",
        "df['petal_length'] = df_['data'][:,2]\n",
        "df['petal_width'] = df_['data'][:,3]\n",
        "df['target'] = df_['target'] == 1\n",
        "\n",
        "# Define train and test sets\n",
        "X_train, X_test, y_train, y_test = sklearn.model_selection.train_test_split(df[['petal_length', 'petal_width']],\n",
        "                                        df['target'],\n",
        "                                        test_size=0.2,\n",
        "                                        random_state=42)\n",
        "# Normalize data\n",
        "scaler = sklearn.preprocessing.StandardScaler()\n",
        "X_train = scaler.fit_transform(X_train)\n",
        "\n",
        "# Instantiate the classifier model\n",
        "svm_gaussian_classifier = sklearn.svm.SVC(kernel='rbf', gamma=6, C=0.001)\n",
        "# Fit the model with the training data\n",
        "svm_gaussian_classifier.fit(X_train, y_train)\n",
        "# Predict new intances classes\n",
        "y_predicted = svm_gaussian_classifier.predict(scaler.transform(X_test))\n",
        "# Evaluate model's accuracy\n",
        "accuracy = sklearn.metrics.accuracy_score(y_test, y_predicted)"
      ],
      "metadata": {
        "id": "y0-F2g9lFBDJ"
      },
      "execution_count": null,
      "outputs": []
    },
    {
      "cell_type": "code",
      "source": [
        "print(accuracy)"
      ],
      "metadata": {
        "id": "ILy7JiMJFH7_"
      },
      "execution_count": null,
      "outputs": []
    }
  ]
}