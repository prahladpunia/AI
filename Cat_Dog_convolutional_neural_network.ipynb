{
  "nbformat": 4,
  "nbformat_minor": 0,
  "metadata": {
    "colab": {
      "name": "Cat-Dog-convolutional_neural_network.ipynb",
      "provenance": [],
      "collapsed_sections": [],
      "machine_shape": "hm",
      "include_colab_link": true
    },
    "kernelspec": {
      "name": "python3",
      "display_name": "Python 3"
    },
    "accelerator": "GPU"
  },
  "cells": [
    {
      "cell_type": "markdown",
      "metadata": {
        "id": "view-in-github",
        "colab_type": "text"
      },
      "source": [
        "<a href=\"https://colab.research.google.com/github/prahladpunia/AI/blob/main/Cat_Dog_convolutional_neural_network.ipynb\" target=\"_parent\"><img src=\"https://colab.research.google.com/assets/colab-badge.svg\" alt=\"Open In Colab\"/></a>"
      ]
    },
    {
      "cell_type": "markdown",
      "metadata": {
        "id": "3DR-eO17geWu"
      },
      "source": [
        "# Convolutional Neural Network"
      ]
    },
    {
      "cell_type": "markdown",
      "metadata": {
        "id": "EMefrVPCg-60"
      },
      "source": [
        "### Importing the libraries"
      ]
    },
    {
      "cell_type": "code",
      "source": [
        "import tensorflow as tf\n",
        "from keras.preprocessing.image import ImageDataGenerator"
      ],
      "metadata": {
        "id": "mKm-s24ljOf8"
      },
      "execution_count": 2,
      "outputs": []
    },
    {
      "cell_type": "code",
      "source": [
        "tf.__version__"
      ],
      "metadata": {
        "colab": {
          "base_uri": "https://localhost:8080/",
          "height": 36
        },
        "id": "-ghRWeM4kZ_q",
        "outputId": "6960f0a7-27e4-402f-db16-bddadd9594fc"
      },
      "execution_count": 3,
      "outputs": [
        {
          "output_type": "execute_result",
          "data": {
            "text/plain": [
              "'2.8.0'"
            ],
            "application/vnd.google.colaboratory.intrinsic+json": {
              "type": "string"
            }
          },
          "metadata": {},
          "execution_count": 3
        }
      ]
    },
    {
      "cell_type": "code",
      "source": [
        ""
      ],
      "metadata": {
        "id": "N1ZsfRUqkQbB"
      },
      "execution_count": null,
      "outputs": []
    },
    {
      "cell_type": "markdown",
      "metadata": {
        "id": "oxQxCBWyoGPE"
      },
      "source": [
        "## Part 1 - Data Preprocessing"
      ]
    },
    {
      "cell_type": "markdown",
      "metadata": {
        "id": "MvE-heJNo3GG"
      },
      "source": [
        "### Preprocessing the Training set"
      ]
    },
    {
      "cell_type": "code",
      "source": [
        "train_datagen=ImageDataGenerator(rescale=1./255,\n",
        "                                 shear_range=0.2,\n",
        "                                 zoom_range=0.2,\n",
        "                                 horizontal_flip=True)\n",
        "training_set = train_datagen.flow_from_directory('/content/drive/MyDrive/dataset/training_set',\n",
        "                                                 target_size=(64,64),\n",
        "                                                 batch_size=32,\n",
        "                                                 class_mode='binary')"
      ],
      "metadata": {
        "colab": {
          "base_uri": "https://localhost:8080/"
        },
        "id": "TR_2JOPtqqMa",
        "outputId": "67b2a4e8-61c1-4f97-d844-7c51539a7016"
      },
      "execution_count": 5,
      "outputs": [
        {
          "output_type": "stream",
          "name": "stdout",
          "text": [
            "Found 7809 images belonging to 2 classes.\n"
          ]
        }
      ]
    },
    {
      "cell_type": "markdown",
      "metadata": {
        "id": "mrCMmGw9pHys"
      },
      "source": [
        "### Preprocessing the Test set"
      ]
    },
    {
      "cell_type": "code",
      "source": [
        "test_datagen= ImageDataGenerator(rescale=1./255)\n",
        "test_set= test_datagen.flow_from_directory('/content/drive/MyDrive/dataset/training_set',\n",
        "                                           target_size=(64,64),\n",
        "                                           batch_size=32,\n",
        "                                           class_mode='binary')"
      ],
      "metadata": {
        "colab": {
          "base_uri": "https://localhost:8080/"
        },
        "id": "tqt5U-Gotap2",
        "outputId": "047d6723-95eb-4561-d501-48680586d2dc"
      },
      "execution_count": 6,
      "outputs": [
        {
          "output_type": "stream",
          "name": "stdout",
          "text": [
            "Found 7809 images belonging to 2 classes.\n"
          ]
        }
      ]
    },
    {
      "cell_type": "markdown",
      "metadata": {
        "id": "af8O4l90gk7B"
      },
      "source": [
        "## Part 2 - Building the CNN"
      ]
    },
    {
      "cell_type": "markdown",
      "metadata": {
        "id": "ces1gXY2lmoX"
      },
      "source": [
        "### Initialising the CNN"
      ]
    },
    {
      "cell_type": "code",
      "source": [
        "cnn = tf.keras.models.Sequential()"
      ],
      "metadata": {
        "id": "Ra61JhHm8MZ_"
      },
      "execution_count": 7,
      "outputs": []
    },
    {
      "cell_type": "markdown",
      "metadata": {
        "id": "u5YJj_XMl5LF"
      },
      "source": [
        "### Step 1 - Convolution"
      ]
    },
    {
      "cell_type": "code",
      "source": [
        "cnn.add(tf.keras.layers.Conv2D(filters=32, kernel_size=3, activation='relu', input_shape=[64,64,3]))"
      ],
      "metadata": {
        "id": "4UphqMsD8V8p"
      },
      "execution_count": 8,
      "outputs": []
    },
    {
      "cell_type": "markdown",
      "metadata": {
        "id": "tf87FpvxmNOJ"
      },
      "source": [
        "### Step 2 - Pooling"
      ]
    },
    {
      "cell_type": "code",
      "source": [
        "cnn.add(tf.keras.layers.MaxPool2D(pool_size=(2,2), strides=2))"
      ],
      "metadata": {
        "id": "SAAkbOTS8qCY"
      },
      "execution_count": 9,
      "outputs": []
    },
    {
      "cell_type": "markdown",
      "metadata": {
        "id": "xaTOgD8rm4mU"
      },
      "source": [
        "### Adding a second convolutional layer"
      ]
    },
    {
      "cell_type": "code",
      "source": [
        "cnn.add(tf.keras.layers.Conv2D(filters=32,kernel_size=3, activation='relu'))\n",
        "cnn.add(tf.keras.layers.MaxPooling2D(pool_size=(2,2), strides=2))"
      ],
      "metadata": {
        "id": "nhylJ1Jc99u1"
      },
      "execution_count": 10,
      "outputs": []
    },
    {
      "cell_type": "markdown",
      "metadata": {
        "id": "tmiEuvTunKfk"
      },
      "source": [
        "### Step 3 - Flattening"
      ]
    },
    {
      "cell_type": "code",
      "source": [
        "cnn.add(tf.keras.layers.Flatten())"
      ],
      "metadata": {
        "id": "4LoZQRSd_Jpi"
      },
      "execution_count": 11,
      "outputs": []
    },
    {
      "cell_type": "markdown",
      "metadata": {
        "id": "dAoSECOm203v"
      },
      "source": [
        "### Step 4 - Full Connection"
      ]
    },
    {
      "cell_type": "code",
      "source": [
        "cnn.add(tf.keras.layers.Dense(units=128, activation='relu'))"
      ],
      "metadata": {
        "id": "UQ5Cbcnj_lU-"
      },
      "execution_count": 12,
      "outputs": []
    },
    {
      "cell_type": "markdown",
      "metadata": {
        "id": "yTldFvbX28Na"
      },
      "source": [
        "### Step 5 - Output Layer"
      ]
    },
    {
      "cell_type": "code",
      "source": [
        "cnn.add(tf.keras.layers.Dense(units=1, activation='sigmoid'))"
      ],
      "metadata": {
        "id": "7oacG6qdAWqK"
      },
      "execution_count": 13,
      "outputs": []
    },
    {
      "cell_type": "markdown",
      "metadata": {
        "id": "D6XkI90snSDl"
      },
      "source": [
        "## Part 3 - Training the CNN"
      ]
    },
    {
      "cell_type": "markdown",
      "metadata": {
        "id": "vfrFQACEnc6i"
      },
      "source": [
        "### Compiling the CNN"
      ]
    },
    {
      "cell_type": "code",
      "source": [
        "cnn.compile(optimizer='adam', loss='binary_crossentropy', metrics=[\"accuracy\"])"
      ],
      "metadata": {
        "id": "Qhe3CSNLE7Hi"
      },
      "execution_count": 14,
      "outputs": []
    },
    {
      "cell_type": "markdown",
      "metadata": {
        "id": "ehS-v3MIpX2h"
      },
      "source": [
        "### Training the CNN on the Training set and evaluating it on the Test set"
      ]
    },
    {
      "cell_type": "code",
      "source": [
        "cnn.fit(x=training_set, validation_data=test_set, epochs=25, verbose=2)"
      ],
      "metadata": {
        "colab": {
          "base_uri": "https://localhost:8080/"
        },
        "id": "b2bW61ZaFMVo",
        "outputId": "1f230010-63fc-4259-8af4-28816a6a3d58"
      },
      "execution_count": 15,
      "outputs": [
        {
          "output_type": "stream",
          "name": "stdout",
          "text": [
            "Epoch 1/25\n",
            "245/245 - 2664s - loss: 0.6471 - accuracy: 0.6143 - val_loss: 0.5889 - val_accuracy: 0.6764 - 2664s/epoch - 11s/step\n",
            "Epoch 2/25\n",
            "245/245 - 52s - loss: 0.5893 - accuracy: 0.6846 - val_loss: 0.5559 - val_accuracy: 0.7110 - 52s/epoch - 211ms/step\n",
            "Epoch 3/25\n",
            "245/245 - 52s - loss: 0.5447 - accuracy: 0.7249 - val_loss: 0.4950 - val_accuracy: 0.7604 - 52s/epoch - 212ms/step\n",
            "Epoch 4/25\n",
            "245/245 - 51s - loss: 0.5180 - accuracy: 0.7418 - val_loss: 0.4628 - val_accuracy: 0.7772 - 51s/epoch - 210ms/step\n",
            "Epoch 5/25\n",
            "245/245 - 51s - loss: 0.4865 - accuracy: 0.7632 - val_loss: 0.4549 - val_accuracy: 0.7887 - 51s/epoch - 210ms/step\n",
            "Epoch 6/25\n",
            "245/245 - 51s - loss: 0.4717 - accuracy: 0.7755 - val_loss: 0.4521 - val_accuracy: 0.7861 - 51s/epoch - 209ms/step\n",
            "Epoch 7/25\n",
            "245/245 - 51s - loss: 0.4550 - accuracy: 0.7835 - val_loss: 0.4247 - val_accuracy: 0.7928 - 51s/epoch - 209ms/step\n",
            "Epoch 8/25\n",
            "245/245 - 51s - loss: 0.4436 - accuracy: 0.7908 - val_loss: 0.3861 - val_accuracy: 0.8261 - 51s/epoch - 209ms/step\n",
            "Epoch 9/25\n",
            "245/245 - 51s - loss: 0.4332 - accuracy: 0.7998 - val_loss: 0.3796 - val_accuracy: 0.8274 - 51s/epoch - 210ms/step\n",
            "Epoch 10/25\n",
            "245/245 - 51s - loss: 0.4209 - accuracy: 0.8027 - val_loss: 0.3651 - val_accuracy: 0.8352 - 51s/epoch - 210ms/step\n",
            "Epoch 11/25\n",
            "245/245 - 51s - loss: 0.4091 - accuracy: 0.8060 - val_loss: 0.3589 - val_accuracy: 0.8479 - 51s/epoch - 209ms/step\n",
            "Epoch 12/25\n",
            "245/245 - 51s - loss: 0.3890 - accuracy: 0.8214 - val_loss: 0.4055 - val_accuracy: 0.8118 - 51s/epoch - 208ms/step\n",
            "Epoch 13/25\n",
            "245/245 - 51s - loss: 0.3726 - accuracy: 0.8310 - val_loss: 0.3214 - val_accuracy: 0.8598 - 51s/epoch - 209ms/step\n",
            "Epoch 14/25\n",
            "245/245 - 51s - loss: 0.3662 - accuracy: 0.8335 - val_loss: 0.3029 - val_accuracy: 0.8714 - 51s/epoch - 209ms/step\n",
            "Epoch 15/25\n",
            "245/245 - 51s - loss: 0.3553 - accuracy: 0.8433 - val_loss: 0.3460 - val_accuracy: 0.8412 - 51s/epoch - 209ms/step\n",
            "Epoch 16/25\n",
            "245/245 - 51s - loss: 0.3425 - accuracy: 0.8449 - val_loss: 0.3420 - val_accuracy: 0.8462 - 51s/epoch - 210ms/step\n",
            "Epoch 17/25\n",
            "245/245 - 51s - loss: 0.3284 - accuracy: 0.8539 - val_loss: 0.2668 - val_accuracy: 0.8872 - 51s/epoch - 209ms/step\n",
            "Epoch 18/25\n",
            "245/245 - 51s - loss: 0.3237 - accuracy: 0.8585 - val_loss: 0.2759 - val_accuracy: 0.8818 - 51s/epoch - 209ms/step\n",
            "Epoch 19/25\n",
            "245/245 - 51s - loss: 0.3045 - accuracy: 0.8664 - val_loss: 0.2468 - val_accuracy: 0.8955 - 51s/epoch - 210ms/step\n",
            "Epoch 20/25\n",
            "245/245 - 51s - loss: 0.2968 - accuracy: 0.8709 - val_loss: 0.2398 - val_accuracy: 0.9047 - 51s/epoch - 209ms/step\n",
            "Epoch 21/25\n",
            "245/245 - 51s - loss: 0.2828 - accuracy: 0.8786 - val_loss: 0.2559 - val_accuracy: 0.8931 - 51s/epoch - 209ms/step\n",
            "Epoch 22/25\n",
            "245/245 - 52s - loss: 0.2710 - accuracy: 0.8863 - val_loss: 0.2483 - val_accuracy: 0.8965 - 52s/epoch - 210ms/step\n",
            "Epoch 23/25\n",
            "245/245 - 51s - loss: 0.2614 - accuracy: 0.8878 - val_loss: 0.2364 - val_accuracy: 0.8981 - 51s/epoch - 209ms/step\n",
            "Epoch 24/25\n",
            "245/245 - 51s - loss: 0.2451 - accuracy: 0.8961 - val_loss: 0.1971 - val_accuracy: 0.9210 - 51s/epoch - 209ms/step\n",
            "Epoch 25/25\n",
            "245/245 - 51s - loss: 0.2526 - accuracy: 0.8949 - val_loss: 0.1634 - val_accuracy: 0.9388 - 51s/epoch - 209ms/step\n"
          ]
        },
        {
          "output_type": "execute_result",
          "data": {
            "text/plain": [
              "<keras.callbacks.History at 0x7fe721ff78d0>"
            ]
          },
          "metadata": {},
          "execution_count": 15
        }
      ]
    },
    {
      "cell_type": "code",
      "source": [
        "from google.colab import drive\n",
        "drive.mount('/content/drive')"
      ],
      "metadata": {
        "colab": {
          "base_uri": "https://localhost:8080/"
        },
        "id": "I1R5TmpMFgoi",
        "outputId": "85e612a5-b368-4803-fa71-cdfccd00274b"
      },
      "execution_count": 1,
      "outputs": [
        {
          "output_type": "stream",
          "name": "stdout",
          "text": [
            "Mounted at /content/drive\n"
          ]
        }
      ]
    },
    {
      "cell_type": "markdown",
      "metadata": {
        "id": "U3PZasO0006Z"
      },
      "source": [
        "## Part 4 - Making a single prediction"
      ]
    },
    {
      "cell_type": "code",
      "source": [
        "import numpy as np\n",
        "from keras.preprocessing import image"
      ],
      "metadata": {
        "id": "PL1HDE8rXBT4"
      },
      "execution_count": 16,
      "outputs": []
    },
    {
      "cell_type": "code",
      "source": [
        "test_image = image.load_img(\"/content/drive/MyDrive/dataset/single_prediction/cat_or_dog_1.jpg\",target_size=(64,64))"
      ],
      "metadata": {
        "id": "0XDh68k4XBcX"
      },
      "execution_count": 18,
      "outputs": []
    },
    {
      "cell_type": "code",
      "source": [
        "test_image= image.img_to_array(test_image)"
      ],
      "metadata": {
        "id": "StdYkUyGZj0t"
      },
      "execution_count": 19,
      "outputs": []
    },
    {
      "cell_type": "code",
      "source": [
        "test_image = np.expand_dims(test_image, axis=0)"
      ],
      "metadata": {
        "id": "79Gt9MWjZj7T"
      },
      "execution_count": 20,
      "outputs": []
    },
    {
      "cell_type": "code",
      "source": [
        "result = cnn.predict(test_image)"
      ],
      "metadata": {
        "id": "vDg1V5FHdhdj"
      },
      "execution_count": 21,
      "outputs": []
    },
    {
      "cell_type": "code",
      "source": [
        "training_set.class_indices"
      ],
      "metadata": {
        "colab": {
          "base_uri": "https://localhost:8080/"
        },
        "id": "D4dGeV3Ud6ti",
        "outputId": "71198756-d199-4861-8f27-8594819b2696"
      },
      "execution_count": 22,
      "outputs": [
        {
          "output_type": "execute_result",
          "data": {
            "text/plain": [
              "{'cats': 0, 'dogs': 1}"
            ]
          },
          "metadata": {},
          "execution_count": 22
        }
      ]
    },
    {
      "cell_type": "code",
      "source": [
        "if result[0][0]==1:\n",
        "  prediction = 'dog'\n",
        "else:\n",
        "  prediction ='cat'  \n",
        "\n",
        "print(prediction)  "
      ],
      "metadata": {
        "colab": {
          "base_uri": "https://localhost:8080/"
        },
        "id": "ZBmU3w-VeDOu",
        "outputId": "563a5966-a37f-4975-fb1e-3231b07d7877"
      },
      "execution_count": 23,
      "outputs": [
        {
          "output_type": "stream",
          "name": "stdout",
          "text": [
            "dog\n"
          ]
        }
      ]
    },
    {
      "cell_type": "code",
      "source": [
        ""
      ],
      "metadata": {
        "id": "BmnXrCXpeeuF"
      },
      "execution_count": null,
      "outputs": []
    },
    {
      "cell_type": "code",
      "source": [
        ""
      ],
      "metadata": {
        "id": "e25pre7Geex0"
      },
      "execution_count": null,
      "outputs": []
    },
    {
      "cell_type": "code",
      "source": [
        ""
      ],
      "metadata": {
        "id": "euSXpKUree2Q"
      },
      "execution_count": null,
      "outputs": []
    }
  ]
}